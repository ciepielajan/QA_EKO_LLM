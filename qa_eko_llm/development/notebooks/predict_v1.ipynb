{
 "cells": [
  {
   "cell_type": "code",
   "execution_count": null,
   "metadata": {},
   "outputs": [],
   "source": [
    "from langchain.embeddings.openai import OpenAIEmbeddings\n",
    "from langchain.vectorstores.faiss import FAISS\n",
    "from langchain.text_splitter import RecursiveCharacterTextSplitter\n",
    "from langchain import OpenAI, VectorDBQA\n",
    "import os\n",
    "import openai\n",
    "openai.api_key  = os.environ['OPENAI_API_KEY']\n",
    "\n",
    "from qa_eko_llm.utils import get_data_path"
   ]
  },
  {
   "cell_type": "code",
   "execution_count": 54,
   "metadata": {},
   "outputs": [],
   "source": [
    "eko_audio_load_row_text = Docx2txtLoader(\n",
    "    str(get_data_path()/\"Audiotur - TEKSTY_LB_RZ_v3 - KOR ŁB.docx\")\n",
    ").load()[0].page_content"
   ]
  },
  {
   "cell_type": "code",
   "execution_count": 55,
   "metadata": {},
   "outputs": [
    {
     "data": {
      "text/plain": [
       "['AUDIOPRZEWODNIK\\n\\nOpracowanie: Łukasz Babula, Rafał Zapłata\\n\\n\\n\\n\\n\\nIłża - ciekawostki i legendy\\n\\nHistoria miasta,',\n",
       " 'Iłża to jedno z najstarszych miast w Polsce. Miejsce to ma swoje korzenie daleko sięgające w przeszłość, do pradziejów od czasów najstarszej epoki kamienia, przez epokę brązu, aż do epoki żelaza. Pierwsze osady nad Iłżanką zaczynają powstawać we wczesnym średniowieczu- około dziesiątego lub jedenastego wieku,. Od dwunastego wieku do roku tysiąc siedemset osiemdziesiątego dziewiątego jest własnością biskupów krakowskich. Najprawdopodobniej jeszcze przed jedenastym wiekiem - przy dzisiejszej ulicy Staromiejskiej - powstaje osada wczesnośredniowieczna o charakterze produkcyjnym. Około dwunastego wieku, przy tej osadzie powstaje gródek strażniczy z drewnianą wieżą strażniczą. Na tym terenie powstał również we wczesnym średniowieczu pierwszy kościół drewniany pod wezwaniem Najświętszej Marii Panny, gdzie obecnie znajduje murowana świątynia, wraz z cmentarzem. Iłża początkowo rozwijała się przede wszystkim jako osada rzemieślniczo-targowa, a jej dogodne położenie na szlaku handlowym w',\n",
       " 'kierunku Solca, oraz Krakowa, sprzyjało rozwojowi osady wczesno-miejskiej. Niestety, w tysiąc dwieście czterdziestym pierwszym i tysiąc dwieście sześćdziesiątym roku zostaje zniszczona podczas najazdów tatarskich. Biskupi krakowscy po tych tragicznych wydarzeniach – w trzynastym wieku przenoszą osadę o półtora kilometra na południe i zakładają nowe miasto lokowane na prawie magdeburskim. Nowa lokalizacja była znacznie korzystniejsza pod względem obronnym i komunikacyjnym. Z końcem trzynastego wieku na wapiennym wzgórzu zaczyna się budowa zamku, która zostanie ukończona przez biskupa Jana Grotowica w latach trzydziestych czternastego wieku. Biskupi krakowscy starali się uzyskać przywileje królewskie przyczyniające się do rozwoju miasta. I tak, dzięki zabiegom biskupa Floriana z Mokrska Iłża została otoczona murami miejskimi, które zostały wniesione w latach tysiąc trzysta sześćdziesiąt siedem tysiąc trzysta  osiemdziesiąt. Przebieg murów do dziś widoczny jest w układzie działek i']"
      ]
     },
     "execution_count": 55,
     "metadata": {},
     "output_type": "execute_result"
    }
   ],
   "source": [
    "text_splitter = RecursiveCharacterTextSplitter(chunk_size=1000, chunk_overlap=0)\n",
    "texts = text_splitter.split_text(eko_audio_load_row_text)\n",
    "texts[:3]"
   ]
  },
  {
   "cell_type": "code",
   "execution_count": 23,
   "metadata": {},
   "outputs": [],
   "source": [
    "embeddings = OpenAIEmbeddings()\n",
    "vectorstore = FAISS.from_texts(texts, embeddings)"
   ]
  },
  {
   "cell_type": "code",
   "execution_count": 29,
   "metadata": {},
   "outputs": [],
   "source": [
    "qa = VectorDBQA.from_chain_type(\n",
    "    llm=OpenAI(), # OpenAI(),  # llm\n",
    "    chain_type=\"stuff\", \n",
    "    vectorstore=vectorstore\n",
    ")"
   ]
  },
  {
   "cell_type": "code",
   "execution_count": 45,
   "metadata": {},
   "outputs": [],
   "source": [
    "q_lst = [\n",
    "    \"Kto opracował audio przewodnik\",\n",
    "    \"Czy Iłża to najstarsze miasto w polsce?\",\n",
    "    \"Jacy biskupi starli się aby uzyskac przywileje królewskie?\",\n",
    "    \"W którym roku doszlo do starcia wojs polskimi i carskimi?\",\n",
    "    \"W którym roku rozpoczeto prace archeologiczne\",\n",
    "    \"W którym roku wojska mongolskie zniszczyły pierwotne gordziska i osady\",\n",
    "    \"Jakie miasto ma atrakcje\",\n",
    "    \"Jakie ciekawostki są o Młynie wodnym\",\n",
    "    \"Jakie są legendy związane z Iłża i jej regionem\",\n",
    "    \"Jacy królowie rządzili iłżą?\",\n",
    "    \"Kto rządził iłżą?\",\n",
    "    \"Kto rządził iłżą przed 1869?\",\n",
    "]"
   ]
  },
  {
   "cell_type": "code",
   "execution_count": 48,
   "metadata": {},
   "outputs": [
    {
     "name": "stdout",
     "output_type": "stream",
     "text": [
      "Q: Kto opracował audio przewodnik\n",
      "A:  Łukasz Babula i Rafał Zapłata.\n",
      "\n",
      "Q: Czy Iłża to najstarsze miasto w polsce?\n",
      "A:  Nie, Iłża nie jest najstarszym miastem w Polsce.\n",
      "\n",
      "Q: Jacy biskupi starli się aby uzyskac przywileje królewskie?\n",
      "A:  Biskupi krakowscy Jan Muskata i Jan Grotowic starali się o pozwolenie od króla na budowę zamku.\n",
      "\n",
      "Q: W którym roku doszlo do starcia wojs polskimi i carskimi?\n",
      "A:  1864\n",
      "\n",
      "Q: W którym roku rozpoczeto prace archeologiczne\n",
      "A:  W tysiąc dziewięćset sześćdziesiątym drugim roku.\n",
      "\n",
      "Q: W którym roku wojska mongolskie zniszczyły pierwotne gordziska i osady\n",
      "A:  1241 i 1260\n",
      "\n",
      "Q: Jakie miasto ma atrakcje\n",
      "A:  Iłża ma atrakcje, w tym Muzeum Regionalne imienia Adama Bednarczyka, zabytkowy budynek dawnego szpitala-przytułku dla ubogich, kolekcję ludowej ceramiki rodzimych twórców z regionu oraz wiele bezcennych pamiątek dotyczących dziejów Iłży i Ziemi Iłżeckiej. Ponadto miasto ma układ urbanistyczno-krajobrazowy kształtowany od około 14 wieku, a także pozostałości głównie budynków gospodarczych, jak również baszty i muru obwodowego.\n",
      "\n",
      "Q: Jakie ciekawostki są o Młynie wodnym\n",
      "A:  Młyn wodny stanowi pozostałość po dawnym obiekcie, który funkcjonował w dziewiętnastym i dwudziestym wieku, jak również starszych tego typu obiektach, które funkcjonowały w Iłży, już w czasach średniowiecza. Obiekt znajduje się przy ulicy Przy Murach, nad rzeką Iłżanką, bezpośrednio przy moście. Budynek drewniany, na planie prostokąta, o konstrukcji ścian słupowo-ryglowych, na fundamencie z kamienia łamanego. Jest to jeden z trzech znanych tego typu obiektów. Przed budynkiem znajduje się brukow\n",
      "\n",
      "Q: Jakie są legendy związane z Iłża i jej regionem\n",
      "A:  Według legendy, nazwa Iłża pochodzi od łez, którymi opłakiwano wydarzenia związane z Powstaniem Listopadowym. Legendarną studnię, która ma być powiązana z tą legendą, odnajdziemy na zamku w jednej z komnat. Inną legendą związaną z Iłżą jest legenda o Powstaniu Styczniowym, który miał miejsce na początku tysiąc osiemset sześćdziesiątego trzeciego roku.\n",
      "\n",
      "Q: Jacy królowie rządzili iłżą?\n",
      "A:  Iłża znajdowała się pod panowaniem austriackim do roku 1800, potem weszła w skład Królestwa Polskiego po Kongresie Wiedeńskim i została wcielona pod zabór rosyjski.\n",
      "\n",
      "Q: Kto rządził iłżą?\n",
      "A:  Przed rokiem 1869, burmistrz i Rada Miejska rządziły Iłżą. Po roku 1869 władzę przejął wójt mianowany przez władze zaborcze.\n",
      "\n",
      "Q: Kto rządził iłżą przed 1869?\n",
      "A:  Przed 1869 Iłżę rządzili biskupi krakowscy przez sześć wieków. Po Sejmie Czteroletnim w 1789 r. Iłża stała się miastem rządowym i w tym okresie zarządzał nią burmistrz i rada miejska.\n",
      "\n"
     ]
    }
   ],
   "source": [
    "for q in q_lst:\n",
    "    print(f\"Q: {q}\", f\"A: {qa.run(q)}\", sep=\"\\n\")\n",
    "    print(\"\")\n",
    "    "
   ]
  },
  {
   "cell_type": "code",
   "execution_count": null,
   "metadata": {},
   "outputs": [],
   "source": [
    "# zaimportowanie biblioteki langchain i openai\n",
    "from langchain.embeddings.openai import OpenAIEmbeddings\n",
    "from langchain.vectorstores.faiss import FAISS\n",
    "from langchain.text_splitter import RecursiveCharacterTextSplitter\n",
    "from langchain import OpenAI, VectorDBQA\n",
    "import os\n",
    "import openai\n",
    "openai.api_key  = os.environ['OPENAI_API_KEY']\n",
    "\n",
    "from qa_eko_llm.utils import get_data_path # link do pliku "
   ]
  },
  {
   "cell_type": "code",
   "execution_count": null,
   "metadata": {},
   "outputs": [],
   "source": [
    "eko_audio_load_row_text = Docx2txtLoader(str(get_data_path()/\"Audiotur - TEKSTY_LB_RZ_v3 - KOR ŁB.docx\")).load()[0].page_content\n",
    "text_splitter = RecursiveCharacterTextSplitter(chunk_size=1000, chunk_overlap=0)\n",
    "texts = text_splitter.split_text(eko_audio_load_row_text)\n",
    "vectorstore = FAISS.from_texts(texts, OpenAIEmbeddings())\n",
    "qa = VectorDBQA.from_chain_type(llm=OpenAI(), chain_type=\"stuff\", vectorstore=vectorstore)\n",
    "qa.run(\"Jakie ciekawostki są o Młynie wodnym\")"
   ]
  }
 ],
 "metadata": {
  "kernelspec": {
   "display_name": "qa-eko-llm-poc-mQ9gwKlm-py3.8",
   "language": "python",
   "name": "python3"
  },
  "language_info": {
   "codemirror_mode": {
    "name": "ipython",
    "version": 3
   },
   "file_extension": ".py",
   "mimetype": "text/x-python",
   "name": "python",
   "nbconvert_exporter": "python",
   "pygments_lexer": "ipython3",
   "version": "3.8.1"
  },
  "orig_nbformat": 4
 },
 "nbformat": 4,
 "nbformat_minor": 2
}
